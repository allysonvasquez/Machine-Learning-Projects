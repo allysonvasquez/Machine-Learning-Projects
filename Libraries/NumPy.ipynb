{
 "cells": [
  {
   "cell_type": "markdown",
   "metadata": {},
   "source": [
    "# NumPy\n",
    "The core library for scientific computing in Python. It is useful for multidimensional array objects.\n",
    "\n",
    "## Index\n",
    "* [Creating Arrays](#Creating-Arrays)\n",
    "    * [Reshaping Arrays](#Reshaping-Arrays)\n",
    "    * [Array Indexing](#Array-Indexing)\n",
    "* [Datatypes](#Datatypes)\n",
    "* [Array Math](#Array-Math)\n",
    "    * [Random Numbers](#Random-Numbers)\n",
    "* [Copy & View](#Copy-&-View)\n",
    "    * [Array Copy](#Array-Copy)\n",
    "    * [Array View](#Array-View)\n",
    "    * [Checking Array Ownership](#Checking-Array-Ownership)\n",
    "* [Array Iterating](#Array-Iterating)\n",
    "\n",
    "\n",
    "### References\n",
    "* [Python NumPy Tutorial (with Jupyter & Colab)](https://cs231n.github.io/python-numpy-tutorial/#numpy)\n",
    "* [Numpy Array Slicing](https://www.w3schools.com/python/numpy_array_slicing.asp)"
   ]
  },
  {
   "cell_type": "markdown",
   "metadata": {},
   "source": [
    "## Creating Arrays\n",
    "Numpy arrays are a grid of values, indexed by a tuple of non-negative integers.\n",
    "* Rank: Number of dimensions\n",
    "* Shape: Size of the array along with each dimension (row, col)"
   ]
  },
  {
   "cell_type": "code",
   "execution_count": 1,
   "metadata": {},
   "outputs": [
    {
     "name": "stdout",
     "output_type": "stream",
     "text": [
      "(3,)\n",
      "1 2 3\n",
      "\n",
      "(2, 3)\n",
      "1 2 4\n"
     ]
    }
   ],
   "source": [
    "import numpy as np\n",
    "\n",
    "a = np.array([1, 2, 3])  # creates a rank 1 array\n",
    "print(a.shape)\n",
    "print(a[0], a[1], a[2])\n",
    "\n",
    "print()\n",
    "\n",
    "b = np.array([[1, 2, 3], [4, 5, 6]])  # creates a rank 2 array\n",
    "print(b.shape)  # prints (rows, cols)\n",
    "print(b[0,0], b[0,1], b[1,0])"
   ]
  },
  {
   "cell_type": "markdown",
   "metadata": {},
   "source": [
    "Below are some functions to create different types of arrays..."
   ]
  },
  {
   "cell_type": "code",
   "execution_count": 2,
   "metadata": {},
   "outputs": [
    {
     "name": "stdout",
     "output_type": "stream",
     "text": [
      "Zero Array:\n",
      " [[0. 0.]\n",
      " [0. 0.]]\n",
      "\n",
      "Array of ones:\n",
      " [[1. 1.]]\n",
      "\n",
      "Constant array of sevens:\n",
      " [[7 7]\n",
      " [7 7]]\n",
      "\n",
      "Identity matrix [[1. 0.]\n",
      " [0. 1.]]\n",
      "\n",
      "[[0.47473492 0.46458353]\n",
      " [0.97220258 0.84043518]]\n"
     ]
    }
   ],
   "source": [
    "a = np.zeros((2, 2))  # creates an array of all zeros\n",
    "print('Zero Array:\\n', a)\n",
    "\n",
    "print()\n",
    "\n",
    "b = np.ones((1, 2))  # creates an array of all ones\n",
    "print('Array of ones:\\n', b)\n",
    "\n",
    "print()\n",
    "\n",
    "c = np.full((2, 2), 7)  # creates a constant array of 7's\n",
    "print('Constant array of sevens:\\n', c)\n",
    "\n",
    "print()\n",
    "\n",
    "d = np.eye(2)  # creates a 2x2 identity matrix\n",
    "print('Identity matrix', d)\n",
    "\n",
    "print()\n",
    "\n",
    "e = np.random.random((2, 2))  # creates array of random values\n",
    "print(e)"
   ]
  },
  {
   "cell_type": "markdown",
   "metadata": {},
   "source": [
    "### Reshaping Arrays\n",
    "You can alter the number of elements in each dimension using the `reshape` attribute"
   ]
  },
  {
   "cell_type": "code",
   "execution_count": 3,
   "metadata": {},
   "outputs": [
    {
     "name": "stdout",
     "output_type": "stream",
     "text": [
      "Original Array:\n",
      " [ 1  2  3  4  5  6  7  8  9 10 11 12] \n",
      "\n",
      "Reshaped Array:\n",
      " [[ 1  2  3]\n",
      " [ 4  5  6]\n",
      " [ 7  8  9]\n",
      " [10 11 12]]\n",
      "\n",
      "Reshaping into the third dimension...\n",
      "[[[ 1  2]\n",
      "  [ 3  4]\n",
      "  [ 5  6]]\n",
      "\n",
      " [[ 7  8]\n",
      "  [ 9 10]\n",
      "  [11 12]]]\n",
      "\n",
      "Flattening the third dimension...\n",
      "[ 1  2  3  4  5  6  7  8  9 10 11 12]\n"
     ]
    }
   ],
   "source": [
    "arr = np.array([1,2,3,4,5,6,7,8,9,10,11,12])\n",
    "\n",
    "newArr = arr.reshape(4, 3) # reshapes arr into 4rows, 3cols\n",
    "\n",
    "print('Original Array:\\n', arr, '\\n')\n",
    "print('Reshaped Array:\\n', newArr)\n",
    "\n",
    "print('\\nReshaping into the third dimension...')\n",
    "newArr = arr.reshape(2, 3, 2)  # creates 2 arrays, each with 3 arrays containing 2 elements\n",
    "print(newArr)\n",
    "\n",
    "# Flattening the array\n",
    "print('\\nFlattening the third dimension...')\n",
    "flatArr = newArr.reshape(-1)  # converting multidimensional arr into 1D\n",
    "print(flatArr)"
   ]
  },
  {
   "cell_type": "markdown",
   "metadata": {},
   "source": [
    "### Array Indexing\n",
    "**Slicing**: Just like lists in Python, numpy arrays can be sliced.\n",
    "* We pass slices like: `[start : end]`"
   ]
  },
  {
   "cell_type": "code",
   "execution_count": 4,
   "metadata": {},
   "outputs": [
    {
     "name": "stdout",
     "output_type": "stream",
     "text": [
      "[2 3 4 5]\n",
      "[5 6 7]\n",
      "[1 2 3 4]\n"
     ]
    }
   ],
   "source": [
    "arr = np.array([1,2,3,4,5,6,7])\n",
    "print(arr[1:5])  # slices starting at index 1, ending at index 4 (excludes index 5)\n",
    "\n",
    "print(arr[4:])  # slices elements from index 4 to the end of arr (includes index 4)\n",
    "\n",
    "print(arr[:4])  # slices elements from start of arr to index 3 (excludes index 4)"
   ]
  },
  {
   "cell_type": "markdown",
   "metadata": {},
   "source": [
    "**Notice how the results *includes* the start index, but *excludes* the end index.**"
   ]
  },
  {
   "cell_type": "code",
   "execution_count": 5,
   "metadata": {},
   "outputs": [
    {
     "name": "stdout",
     "output_type": "stream",
     "text": [
      "[[ 1  2  3  4]\n",
      " [ 5  6  7  8]\n",
      " [ 9 10 11 12]]\n",
      "\n",
      "[[2 3]\n",
      " [6 7]]\n",
      "\n",
      "[6 7 8]\n"
     ]
    }
   ],
   "source": [
    "a = np.array([[1,2,3,4], [5,6,7,8], [9,10,11,12]])\n",
    "print(a)\n",
    "\n",
    "print()\n",
    "\n",
    "# remember: (row, col)\n",
    "b = a[:2, 1:3]  # slices first 2 rows, between col indexes 1-2\n",
    "print(b)\n",
    "\n",
    "print()\n",
    "\n",
    "c = a[1, 1:4]  # slices index row 1, between col indexes 1-3\n",
    "print(c)"
   ]
  },
  {
   "cell_type": "markdown",
   "metadata": {},
   "source": [
    "**Step**: Using the `step` value determines the step of the slicing.\n",
    "* We can define the step, like: [start:end:step]"
   ]
  },
  {
   "cell_type": "code",
   "execution_count": 6,
   "metadata": {
    "scrolled": true
   },
   "outputs": [
    {
     "name": "stdout",
     "output_type": "stream",
     "text": [
      "[1 2 3 4 5 6 7]\n",
      "[1 3 5 7]\n",
      "[2 4]\n"
     ]
    }
   ],
   "source": [
    "print(arr)\n",
    "print(arr[::2])  # slices every other element from the entire array\n",
    "print(arr[1:5:2])  # slices every other element from index 1 to index 5"
   ]
  },
  {
   "cell_type": "markdown",
   "metadata": {},
   "source": [
    "## Datatypes\n",
    "Every numpy array uses elements of the same type and chooses the datatype when an array is created."
   ]
  },
  {
   "cell_type": "code",
   "execution_count": 7,
   "metadata": {},
   "outputs": [
    {
     "name": "stdout",
     "output_type": "stream",
     "text": [
      "[1 2] int64\n",
      "[1.5 2.2] float64\n"
     ]
    }
   ],
   "source": [
    "x = np.array([1, 2])\n",
    "print(x, x.dtype)\n",
    "\n",
    "x = np.array([1.5, 2.2])\n",
    "print(x, x.dtype)"
   ]
  },
  {
   "cell_type": "markdown",
   "metadata": {},
   "source": [
    "You can also force a specific datatype using the `dtype=` argument:"
   ]
  },
  {
   "cell_type": "code",
   "execution_count": 8,
   "metadata": {},
   "outputs": [
    {
     "name": "stdout",
     "output_type": "stream",
     "text": [
      "[1 2] int64\n"
     ]
    }
   ],
   "source": [
    "x = np.array([1.1, 2.5], dtype=np.int64)\n",
    "print(x, x.dtype)"
   ]
  },
  {
   "cell_type": "markdown",
   "metadata": {},
   "source": [
    "## Array Math\n",
    "Mathematical functions operate elementwise, and are available as operator overloads and functions in numpy."
   ]
  },
  {
   "cell_type": "code",
   "execution_count": 9,
   "metadata": {},
   "outputs": [
    {
     "name": "stdout",
     "output_type": "stream",
     "text": [
      "Operator sum:\n",
      " [[ 6.  8.]\n",
      " [10. 12.]]\n",
      "Function sum:\n",
      " [[ 6.  8.]\n",
      " [10. 12.]]\n",
      "\n",
      "Operator difference:\n",
      " [[-4. -4.]\n",
      " [-4. -4.]]\n",
      "Function difference:\n",
      " [[-4. -4.]\n",
      " [-4. -4.]]\n",
      "\n",
      "Operator product:\n",
      " [[ 5. 12.]\n",
      " [21. 32.]]\n",
      "Function product:\n",
      " [[ 5. 12.]\n",
      " [21. 32.]]\n",
      "\n",
      "Operator quotient:\n",
      " [[0.2        0.33333333]\n",
      " [0.42857143 0.5       ]]\n",
      "Function quotient:\n",
      " [[0.2        0.33333333]\n",
      " [0.42857143 0.5       ]]\n"
     ]
    }
   ],
   "source": [
    "x = np.array([[1,2], [3,4]], dtype=np.float64)\n",
    "y = np.array([[5,6], [7,8]], dtype=np.float64)\n",
    "\n",
    "print('Operator sum:\\n', x + y)  # operator sums x[0,0] + y[0,0], and so on\n",
    "print('Function sum:\\n',np.add(x, y)) # function version\n",
    "\n",
    "print()\n",
    "\n",
    "print('Operator difference:\\n', x - y)  # operator version\n",
    "print('Function difference:\\n',np.subtract(x, y)) # function version\n",
    "\n",
    "print()\n",
    "\n",
    "print('Operator product:\\n', x * y)  # operator version\n",
    "print('Function product:\\n',np.multiply(x, y)) # function version\n",
    "\n",
    "print()\n",
    "\n",
    "print('Operator quotient:\\n', x / y)  # operator version\n",
    "print('Function quotient:\\n',np.divide(x, y)) # function version"
   ]
  },
  {
   "cell_type": "markdown",
   "metadata": {},
   "source": [
    "The `sum` function sums an array of elements over a given axis:"
   ]
  },
  {
   "cell_type": "code",
   "execution_count": 10,
   "metadata": {},
   "outputs": [
    {
     "name": "stdout",
     "output_type": "stream",
     "text": [
      "10\n",
      "[4 6]\n",
      "[3 7]\n"
     ]
    }
   ],
   "source": [
    "x = np.array([[1,2], [3,4]])\n",
    "print(np.sum(x))  # sums all elements\n",
    "print(np.sum(x, axis=0))  # sum of each col\n",
    "print(np.sum(x, axis=1))  # sum of each row"
   ]
  },
  {
   "cell_type": "markdown",
   "metadata": {},
   "source": [
    "The `dot` function computes inner products of vectors, to multiply a cevtor by a matrix, and to multiply matrices."
   ]
  },
  {
   "cell_type": "code",
   "execution_count": 11,
   "metadata": {},
   "outputs": [
    {
     "name": "stdout",
     "output_type": "stream",
     "text": [
      "Matrices:\n",
      " [[1 2]\n",
      " [3 4]] [[5 6]\n",
      " [7 8]]\n",
      "\n",
      "Vectors:\n",
      " [ 9 10] [11 12]\n",
      "\n",
      "Vector * Vector\n",
      "219\n",
      "219\n",
      "\n",
      "Matrix * Vector\n",
      "[29 67]\n",
      "[29 67]\n",
      "\n",
      "Matrix * Matrix\n",
      "[[19 22]\n",
      " [43 50]]\n",
      "[[19 22]\n",
      " [43 50]]\n"
     ]
    }
   ],
   "source": [
    "x = np.array([[1,2], [3,4]])\n",
    "y = np.array([[5,6], [7,8]])\n",
    "\n",
    "v = np.array([9, 10])\n",
    "w = np.array([11, 12])\n",
    "\n",
    "print('Matrices:\\n',x,y)\n",
    "print()\n",
    "print('Vectors:\\n',v,w)\n",
    "print()\n",
    "\n",
    "# inner product of vectors\n",
    "print('Vector * Vector')\n",
    "print(v.dot(w))  # instance method version\n",
    "print(np.dot(v, w))  # numpy function version\n",
    "print()\n",
    "\n",
    "# matrix/vector product\n",
    "print('Matrix * Vector')\n",
    "print(x.dot(v))  # instance method version\n",
    "print(np.dot(x,v))  # numpy function version\n",
    "print()\n",
    "\n",
    "# matrix/matrix product\n",
    "print('Matrix * Matrix')\n",
    "print(x.dot(y))  # instance method version\n",
    "print(np.dot(x,y))  # numpy function version"
   ]
  },
  {
   "cell_type": "markdown",
   "metadata": {},
   "source": [
    "### Random Numbers\n",
    "Importing numpys `random` module allows your to work with random numbers."
   ]
  },
  {
   "cell_type": "code",
   "execution_count": 12,
   "metadata": {},
   "outputs": [
    {
     "name": "stdout",
     "output_type": "stream",
     "text": [
      "63\n",
      "0.35895008147249874\n",
      "\n",
      "[90 85 52 54 31]\n",
      "\n",
      "[[35 17 54 97 40]\n",
      " [30 60 93 35 39]\n",
      " [23 44 23  0 68]]\n",
      "\n"
     ]
    }
   ],
   "source": [
    "from numpy import random\n",
    "\n",
    "x = random.randint(100)  # generate random int\n",
    "print(x)\n",
    "\n",
    "x = random.rand()  # generate random float from 0-1\n",
    "print(x)\n",
    "\n",
    "print()\n",
    "# Random used on arrays\n",
    "x = random.randint(100, size=(5))  # generate 5 element array w/ random ints from 0-100\n",
    "print(x)\n",
    "print()\n",
    "\n",
    "x = random.randint(100, size=(3, 5))  # generate array with 3rows,5cols w/random ints from 0-100\n",
    "print(x)\n",
    "print()"
   ]
  },
  {
   "cell_type": "markdown",
   "metadata": {},
   "source": [
    "The `choice()` method takes an array as a parameter and randomly returns one of the values."
   ]
  },
  {
   "cell_type": "code",
   "execution_count": 13,
   "metadata": {},
   "outputs": [
    {
     "name": "stdout",
     "output_type": "stream",
     "text": [
      "7\n"
     ]
    }
   ],
   "source": [
    "x = random.choice([5,7,9,3,12])\n",
    "print(x)"
   ]
  },
  {
   "cell_type": "markdown",
   "metadata": {},
   "source": [
    "## Copy & View\n",
    "Copying an array lets you create a new array.\n",
    "\n",
    "Viewing an array lets you view the original array.\n",
    "\n",
    "### Array Copy\n",
    "The copy *owns* the data. Any changes to the copy does not affect the original array. Any changes made to the original array do not affect the copy."
   ]
  },
  {
   "cell_type": "code",
   "execution_count": 14,
   "metadata": {},
   "outputs": [
    {
     "name": "stdout",
     "output_type": "stream",
     "text": [
      "Array:  [1 2 3 4 5]\n",
      "Copy:  [1 2 3 4 5]\n",
      "\n",
      "Changing some numbers...beep boop\n",
      "\n",
      "Array:  [ 1  2  3 64  5]\n",
      "Copy:  [42  2  3  4  5]\n"
     ]
    }
   ],
   "source": [
    "arr = np.array([1, 2, 3, 4, 5])\n",
    "x = arr.copy()\n",
    "\n",
    "print('Array: ', arr)\n",
    "print('Copy: ', x)\n",
    "\n",
    "print('\\nChanging some numbers...beep boop\\n')\n",
    "\n",
    "arr[3] = 64\n",
    "x[0] = 42\n",
    "print('Array: ', arr)\n",
    "print('Copy: ', x)"
   ]
  },
  {
   "cell_type": "markdown",
   "metadata": {},
   "source": [
    "### Array View\n",
    "The view *does not* own the data. Any changes made to the view will affect the original array. Any changes made to the original array will affect the view."
   ]
  },
  {
   "cell_type": "code",
   "execution_count": 15,
   "metadata": {},
   "outputs": [
    {
     "name": "stdout",
     "output_type": "stream",
     "text": [
      "Array:  [1 2 3 4 5]\n",
      "Viewing Array:  [1 2 3 4 5]\n",
      "\n",
      "Changing some numbers...beep boop\n",
      "\n",
      "Array:  [42  2  3 64  5]\n",
      "Viewing Array:  [42  2  3 64  5]\n"
     ]
    }
   ],
   "source": [
    "arr = np.array([1, 2, 3, 4, 5])\n",
    "x = arr.view()\n",
    "\n",
    "print('Array: ', arr)\n",
    "print('Viewing Array: ', x)\n",
    "\n",
    "print('\\nChanging some numbers...beep boop\\n')\n",
    "\n",
    "arr[3] = 64\n",
    "x[0] = 42\n",
    "print('Array: ', arr)\n",
    "print('Viewing Array: ', x)"
   ]
  },
  {
   "cell_type": "markdown",
   "metadata": {},
   "source": [
    "### Checking Array Ownership\n",
    "Numpy has the `base` attribute that returns `None` if the array owns the data. If the array does *not* own the data, returns the original array. "
   ]
  },
  {
   "cell_type": "code",
   "execution_count": 16,
   "metadata": {},
   "outputs": [
    {
     "name": "stdout",
     "output_type": "stream",
     "text": [
      "None\n",
      "[1 2 3 4 5]\n"
     ]
    }
   ],
   "source": [
    "arr = np.array([1, 2, 3, 4, 5])  # original arr\n",
    "x = arr.copy()  # owns\n",
    "y = arr.view()  # does not own\n",
    "\n",
    "print(x.base)\n",
    "print(y.base)"
   ]
  },
  {
   "cell_type": "markdown",
   "metadata": {},
   "source": [
    "## Array Iterating"
   ]
  },
  {
   "cell_type": "code",
   "execution_count": 17,
   "metadata": {},
   "outputs": [
    {
     "name": "stdout",
     "output_type": "stream",
     "text": [
      "1 dimensional iteration\n",
      "1\n",
      "2\n",
      "3\n",
      "4\n",
      "5\n",
      "\n",
      "2 dimensional iterations\n",
      "[1 2 3]\n",
      "[4 5 6]\n",
      "1\n",
      "2\n",
      "3\n",
      "4\n",
      "5\n",
      "6\n",
      "\n",
      "3 dimensional iterations\n",
      "[1 2 3]\n",
      "[4 5 6]\n",
      "[7 8 9]\n",
      "[10 11 12]\n",
      "1\n",
      "2\n",
      "3\n",
      "4\n",
      "5\n",
      "6\n",
      "7\n",
      "8\n",
      "9\n",
      "10\n",
      "11\n",
      "12\n",
      "\n"
     ]
    }
   ],
   "source": [
    "# iterating 1D array\n",
    "print('1 dimensional iteration')\n",
    "arr = np.array([1,2,3,4,5])\n",
    "for i in arr:\n",
    "    print(i)\n",
    "\n",
    "print()\n",
    "\n",
    "# iterating 2D array\n",
    "print('2 dimensional iterations')\n",
    "arr = np.array([[1,2,3], [4,5,6]])\n",
    "for i in arr:\n",
    "    print(i)\n",
    "# iterating each scalar element of 2D array\n",
    "arr = np.array([[1,2,3], [4,5,6]])\n",
    "for i in arr:\n",
    "    for j in i:\n",
    "        print(j)\n",
    "\n",
    "print()\n",
    "\n",
    "# iterating 3D array\n",
    "print('3 dimensional iterations')\n",
    "arr = np.array([[1,2,3], [4,5,6], [7,8,9], [10,11,12]])\n",
    "for i in arr:\n",
    "    print(i)\n",
    "# iterating each scalar element of 3D array\n",
    "arr = np.array([[[1, 2, 3], [4, 5, 6]], [[7, 8, 9], [10, 11, 12]]])\n",
    "for i in arr:\n",
    "  for j in i:\n",
    "    for k in j:\n",
    "      print(k)\n",
    "print()"
   ]
  }
 ],
 "metadata": {
  "kernelspec": {
   "display_name": "Python 3",
   "language": "python",
   "name": "python3"
  },
  "language_info": {
   "codemirror_mode": {
    "name": "ipython",
    "version": 3
   },
   "file_extension": ".py",
   "mimetype": "text/x-python",
   "name": "python",
   "nbconvert_exporter": "python",
   "pygments_lexer": "ipython3",
   "version": "3.8.2"
  }
 },
 "nbformat": 4,
 "nbformat_minor": 4
}
